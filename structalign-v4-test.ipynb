{
 "cells": [
  {
   "cell_type": "code",
   "execution_count": 1,
   "id": "a38f239d",
   "metadata": {
    "_cell_guid": "b1076dfc-b9ad-4769-8c92-a6c4dae69d19",
    "_uuid": "8f2839f25d086af736a60e9eeb907d3b93b6e0e5",
    "execution": {
     "iopub.execute_input": "2025-10-23T13:15:56.070753Z",
     "iopub.status.busy": "2025-10-23T13:15:56.070459Z",
     "iopub.status.idle": "2025-10-23T13:16:01.272381Z",
     "shell.execute_reply": "2025-10-23T13:16:01.271395Z"
    },
    "papermill": {
     "duration": 5.207283,
     "end_time": "2025-10-23T13:16:01.273877",
     "exception": false,
     "start_time": "2025-10-23T13:15:56.066594",
     "status": "completed"
    },
    "tags": []
   },
   "outputs": [
    {
     "name": "stdout",
     "output_type": "stream",
     "text": [
      "Collecting torch-geometric\r\n",
      "  Downloading torch_geometric-2.7.0-py3-none-any.whl.metadata (63 kB)\r\n",
      "\u001b[2K     \u001b[90m━━━━━━━━━━━━━━━━━━━━━━━━━━━━━━━━━━━━━━━━\u001b[0m \u001b[32m63.7/63.7 kB\u001b[0m \u001b[31m2.5 MB/s\u001b[0m eta \u001b[36m0:00:00\u001b[0m\r\n",
      "\u001b[?25hRequirement already satisfied: aiohttp in /usr/local/lib/python3.11/dist-packages (from torch-geometric) (3.12.15)\r\n",
      "Requirement already satisfied: fsspec in /usr/local/lib/python3.11/dist-packages (from torch-geometric) (2025.9.0)\r\n",
      "Requirement already satisfied: jinja2 in /usr/local/lib/python3.11/dist-packages (from torch-geometric) (3.1.6)\r\n",
      "Requirement already satisfied: numpy in /usr/local/lib/python3.11/dist-packages (from torch-geometric) (1.26.4)\r\n",
      "Requirement already satisfied: psutil>=5.8.0 in /usr/local/lib/python3.11/dist-packages (from torch-geometric) (7.1.0)\r\n",
      "Requirement already satisfied: pyparsing in /usr/local/lib/python3.11/dist-packages (from torch-geometric) (3.0.9)\r\n",
      "Requirement already satisfied: requests in /usr/local/lib/python3.11/dist-packages (from torch-geometric) (2.32.5)\r\n",
      "Requirement already satisfied: tqdm in /usr/local/lib/python3.11/dist-packages (from torch-geometric) (4.67.1)\r\n",
      "Requirement already satisfied: xxhash in /usr/local/lib/python3.11/dist-packages (from torch-geometric) (3.5.0)\r\n",
      "Requirement already satisfied: aiohappyeyeballs>=2.5.0 in /usr/local/lib/python3.11/dist-packages (from aiohttp->torch-geometric) (2.6.1)\r\n",
      "Requirement already satisfied: aiosignal>=1.4.0 in /usr/local/lib/python3.11/dist-packages (from aiohttp->torch-geometric) (1.4.0)\r\n",
      "Requirement already satisfied: attrs>=17.3.0 in /usr/local/lib/python3.11/dist-packages (from aiohttp->torch-geometric) (25.3.0)\r\n",
      "Requirement already satisfied: frozenlist>=1.1.1 in /usr/local/lib/python3.11/dist-packages (from aiohttp->torch-geometric) (1.7.0)\r\n",
      "Requirement already satisfied: multidict<7.0,>=4.5 in /usr/local/lib/python3.11/dist-packages (from aiohttp->torch-geometric) (6.6.4)\r\n",
      "Requirement already satisfied: propcache>=0.2.0 in /usr/local/lib/python3.11/dist-packages (from aiohttp->torch-geometric) (0.3.2)\r\n",
      "Requirement already satisfied: yarl<2.0,>=1.17.0 in /usr/local/lib/python3.11/dist-packages (from aiohttp->torch-geometric) (1.20.1)\r\n",
      "Requirement already satisfied: MarkupSafe>=2.0 in /usr/local/lib/python3.11/dist-packages (from jinja2->torch-geometric) (3.0.2)\r\n",
      "Requirement already satisfied: mkl_fft in /usr/local/lib/python3.11/dist-packages (from numpy->torch-geometric) (1.3.8)\r\n",
      "Requirement already satisfied: mkl_random in /usr/local/lib/python3.11/dist-packages (from numpy->torch-geometric) (1.2.4)\r\n",
      "Requirement already satisfied: mkl_umath in /usr/local/lib/python3.11/dist-packages (from numpy->torch-geometric) (0.1.1)\r\n",
      "Requirement already satisfied: mkl in /usr/local/lib/python3.11/dist-packages (from numpy->torch-geometric) (2025.2.0)\r\n",
      "Requirement already satisfied: tbb4py in /usr/local/lib/python3.11/dist-packages (from numpy->torch-geometric) (2022.2.0)\r\n",
      "Requirement already satisfied: mkl-service in /usr/local/lib/python3.11/dist-packages (from numpy->torch-geometric) (2.4.1)\r\n",
      "Requirement already satisfied: charset_normalizer<4,>=2 in /usr/local/lib/python3.11/dist-packages (from requests->torch-geometric) (3.4.3)\r\n",
      "Requirement already satisfied: idna<4,>=2.5 in /usr/local/lib/python3.11/dist-packages (from requests->torch-geometric) (3.10)\r\n",
      "Requirement already satisfied: urllib3<3,>=1.21.1 in /usr/local/lib/python3.11/dist-packages (from requests->torch-geometric) (2.5.0)\r\n",
      "Requirement already satisfied: certifi>=2017.4.17 in /usr/local/lib/python3.11/dist-packages (from requests->torch-geometric) (2025.8.3)\r\n",
      "Requirement already satisfied: typing-extensions>=4.2 in /usr/local/lib/python3.11/dist-packages (from aiosignal>=1.4.0->aiohttp->torch-geometric) (4.15.0)\r\n",
      "Requirement already satisfied: intel-openmp<2026,>=2024 in /usr/local/lib/python3.11/dist-packages (from mkl->numpy->torch-geometric) (2024.2.0)\r\n",
      "Requirement already satisfied: tbb==2022.* in /usr/local/lib/python3.11/dist-packages (from mkl->numpy->torch-geometric) (2022.2.0)\r\n",
      "Requirement already satisfied: tcmlib==1.* in /usr/local/lib/python3.11/dist-packages (from tbb==2022.*->mkl->numpy->torch-geometric) (1.4.0)\r\n",
      "Requirement already satisfied: intel-cmplr-lib-rt in /usr/local/lib/python3.11/dist-packages (from mkl_umath->numpy->torch-geometric) (2024.2.0)\r\n",
      "Requirement already satisfied: intel-cmplr-lib-ur==2024.2.0 in /usr/local/lib/python3.11/dist-packages (from intel-openmp<2026,>=2024->mkl->numpy->torch-geometric) (2024.2.0)\r\n",
      "Downloading torch_geometric-2.7.0-py3-none-any.whl (1.3 MB)\r\n",
      "\u001b[2K   \u001b[90m━━━━━━━━━━━━━━━━━━━━━━━━━━━━━━━━━━━━━━━━\u001b[0m \u001b[32m1.3/1.3 MB\u001b[0m \u001b[31m32.1 MB/s\u001b[0m eta \u001b[36m0:00:00\u001b[0m\r\n",
      "\u001b[?25hInstalling collected packages: torch-geometric\r\n",
      "Successfully installed torch-geometric-2.7.0\r\n"
     ]
    }
   ],
   "source": [
    "# Install PyTorch Geometric (if not installed)\n",
    "!pip install torch-geometric"
   ]
  },
  {
   "cell_type": "code",
   "execution_count": 2,
   "id": "930d8bcf",
   "metadata": {
    "execution": {
     "iopub.execute_input": "2025-10-23T13:16:01.279728Z",
     "iopub.status.busy": "2025-10-23T13:16:01.279481Z",
     "iopub.status.idle": "2025-10-23T13:16:15.194881Z",
     "shell.execute_reply": "2025-10-23T13:16:15.194301Z"
    },
    "papermill": {
     "duration": 13.919649,
     "end_time": "2025-10-23T13:16:15.196232",
     "exception": false,
     "start_time": "2025-10-23T13:16:01.276583",
     "status": "completed"
    },
    "tags": []
   },
   "outputs": [],
   "source": [
    "import numpy as np\n",
    "import torch\n",
    "import torch.nn as nn\n",
    "import torch.optim as optim\n",
    "from torch.utils.data import Dataset, DataLoader, Subset\n",
    "from sklearn.model_selection import StratifiedKFold\n",
    "from sklearn.metrics import accuracy_score\n",
    "from scipy.linalg import eigh\n",
    "import random\n",
    "\n",
    "from torch_geometric.datasets import TUDataset\n",
    "from torch_geometric.utils import to_dense_adj"
   ]
  },
  {
   "cell_type": "code",
   "execution_count": 3,
   "id": "5897778e",
   "metadata": {
    "execution": {
     "iopub.execute_input": "2025-10-23T13:16:15.201861Z",
     "iopub.status.busy": "2025-10-23T13:16:15.201461Z",
     "iopub.status.idle": "2025-10-23T13:16:15.205417Z",
     "shell.execute_reply": "2025-10-23T13:16:15.204833Z"
    },
    "papermill": {
     "duration": 0.007844,
     "end_time": "2025-10-23T13:16:15.206474",
     "exception": false,
     "start_time": "2025-10-23T13:16:15.198630",
     "status": "completed"
    },
    "tags": []
   },
   "outputs": [],
   "source": [
    "def load_tudataset(name):\n",
    "    dataset = TUDataset(root=f'data/TUDataset/{name}', name=name)\n",
    "    adj_list = [to_dense_adj(g.edge_index)[0].numpy() for g in dataset] # extract list of adj matrices\n",
    "    labels = [int(g.y) for g in dataset]\n",
    "    return adj_list, labels"
   ]
  },
  {
   "cell_type": "code",
   "execution_count": 4,
   "id": "fb23a8ce",
   "metadata": {
    "execution": {
     "iopub.execute_input": "2025-10-23T13:16:15.211520Z",
     "iopub.status.busy": "2025-10-23T13:16:15.211309Z",
     "iopub.status.idle": "2025-10-23T13:16:15.217027Z",
     "shell.execute_reply": "2025-10-23T13:16:15.216546Z"
    },
    "papermill": {
     "duration": 0.009462,
     "end_time": "2025-10-23T13:16:15.218021",
     "exception": false,
     "start_time": "2025-10-23T13:16:15.208559",
     "status": "completed"
    },
    "tags": []
   },
   "outputs": [],
   "source": [
    "class DoSDataset(Dataset):\n",
    "    def __init__(self, adj_list, labels, num_bins=100, sigma=0.1):\n",
    "        self.labels = np.array(labels)\n",
    "        self.num_bins = num_bins\n",
    "        self.sigma = sigma\n",
    "        self.dos_vectors = [self.compute_dos(A) for A in adj_list]\n",
    "    def compute_dos(self, A):\n",
    "        deg = A.sum(axis=1)\n",
    "        D_inv_sqrt = np.diag(1.0 / np.sqrt(deg + 1e-10))\n",
    "        L = np.eye(A.shape[0]) - (D_inv_sqrt @ A @ D_inv_sqrt)\n",
    "        eigvals = eigh(L, eigvals_only=True) \n",
    "        bins = np.linspace(0, 2, self.num_bins) # the eigenvalues of the normalized Laplacian always lie in [0, 2]\n",
    "        dos = np.zeros(self.num_bins)\n",
    "        for ev in eigvals:\n",
    "            dos += np.exp(-(bins - ev)**2 / (2 * self.sigma**2))\n",
    "        dos /= dos.sum()\n",
    "        return torch.tensor(dos, dtype=torch.float32)\n",
    "    def __len__(self):\n",
    "        return len(self.labels)\n",
    "    def __getitem__(self, idx):\n",
    "        return self.dos_vectors[idx], torch.tensor(self.labels[idx], dtype=torch.long)"
   ]
  },
  {
   "cell_type": "code",
   "execution_count": 5,
   "id": "3577eecb",
   "metadata": {
    "execution": {
     "iopub.execute_input": "2025-10-23T13:16:15.222884Z",
     "iopub.status.busy": "2025-10-23T13:16:15.222688Z",
     "iopub.status.idle": "2025-10-23T13:16:15.226920Z",
     "shell.execute_reply": "2025-10-23T13:16:15.226424Z"
    },
    "papermill": {
     "duration": 0.007796,
     "end_time": "2025-10-23T13:16:15.227868",
     "exception": false,
     "start_time": "2025-10-23T13:16:15.220072",
     "status": "completed"
    },
    "tags": []
   },
   "outputs": [],
   "source": [
    "class MLP(nn.Module):\n",
    "    def __init__(self, in_ch, h_ch, out_ch, num_layers=2):\n",
    "        super().__init__()\n",
    "        layers = []\n",
    "        layers.append(nn.Linear(in_ch, h_ch))\n",
    "        layers.append(nn.ReLU())\n",
    "\n",
    "        for _ in range(num_layers - 1): \n",
    "            layers.append(nn.Linear(h_ch, h_ch))\n",
    "            layers.append(nn.ReLU())\n",
    "\n",
    "        layers.append(nn.Linear(h_ch, out_ch))\n",
    "\n",
    "        self.net = nn.Sequential(*layers)\n",
    "\n",
    "    def forward(self, x):\n",
    "        return self.net(x)"
   ]
  },
  {
   "cell_type": "code",
   "execution_count": 6,
   "id": "2543616d",
   "metadata": {
    "execution": {
     "iopub.execute_input": "2025-10-23T13:16:15.232676Z",
     "iopub.status.busy": "2025-10-23T13:16:15.232480Z",
     "iopub.status.idle": "2025-10-23T13:16:15.237699Z",
     "shell.execute_reply": "2025-10-23T13:16:15.237185Z"
    },
    "papermill": {
     "duration": 0.008741,
     "end_time": "2025-10-23T13:16:15.238665",
     "exception": false,
     "start_time": "2025-10-23T13:16:15.229924",
     "status": "completed"
    },
    "tags": []
   },
   "outputs": [],
   "source": [
    "def train_one_epoch(model, loader, criterion, optimizer, device):\n",
    "    model.train()\n",
    "    total_loss = 0\n",
    "    for X, y in loader:\n",
    "        X, y = X.to(device), y.to(device)\n",
    "        optimizer.zero_grad()\n",
    "        out = model(X)\n",
    "        loss = criterion(out, y)\n",
    "        loss.backward()\n",
    "        optimizer.step()\n",
    "        total_loss += loss.item() * X.size(0)\n",
    "    return total_loss / len(loader.dataset)\n",
    "\n",
    "def evaluate(model, loader, device):\n",
    "    model.eval()\n",
    "    preds, trues = [], []\n",
    "    with torch.no_grad():\n",
    "        for X, y in loader:\n",
    "            X, y = X.to(device), y.to(device)\n",
    "            out = model(X)\n",
    "            pred = out.argmax(dim=1).cpu().numpy()\n",
    "            preds.append(pred)\n",
    "            trues.append(y.cpu().numpy())\n",
    "    preds = np.concatenate(preds)\n",
    "    trues = np.concatenate(trues)\n",
    "    return accuracy_score(trues, preds)\n"
   ]
  },
  {
   "cell_type": "code",
   "execution_count": 7,
   "id": "26668f59",
   "metadata": {
    "execution": {
     "iopub.execute_input": "2025-10-23T13:16:15.243425Z",
     "iopub.status.busy": "2025-10-23T13:16:15.243229Z",
     "iopub.status.idle": "2025-10-23T13:16:15.249233Z",
     "shell.execute_reply": "2025-10-23T13:16:15.248582Z"
    },
    "papermill": {
     "duration": 0.009657,
     "end_time": "2025-10-23T13:16:15.250331",
     "exception": false,
     "start_time": "2025-10-23T13:16:15.240674",
     "status": "completed"
    },
    "tags": []
   },
   "outputs": [],
   "source": [
    "def cross_val_run_gpu(dataset, num_classes, seeds=[1,2,3,4,5], num_folds=10, \n",
    "                      hidden_dim=64, epochs=50, batch_size=32, lr=1e-3, device='cuda'):\n",
    "    all_seed_results = []\n",
    "    X_indices = np.arange(len(dataset))\n",
    "    y_labels = dataset.labels\n",
    "    \n",
    "    for seed in seeds:\n",
    "        random.seed(seed)\n",
    "        np.random.seed(seed)\n",
    "        torch.manual_seed(seed)\n",
    "        \n",
    "        skf = StratifiedKFold(n_splits=num_folds, shuffle=True, random_state=seed)\n",
    "        fold_results = []\n",
    "        \n",
    "        for train_idx, test_idx in skf.split(X_indices, y_labels):\n",
    "            train_subset = Subset(dataset, train_idx)\n",
    "            test_subset = Subset(dataset, test_idx)\n",
    "            \n",
    "            train_loader = DataLoader(train_subset, batch_size=batch_size, shuffle=True)\n",
    "            test_loader = DataLoader(test_subset, batch_size=batch_size, shuffle=False)\n",
    "            \n",
    "            model = MLP(dataset.num_bins, hidden_dim, num_classes).to(device)\n",
    "            criterion = nn.CrossEntropyLoss()\n",
    "            optimizer = optim.Adam(model.parameters(), lr=lr)\n",
    "            \n",
    "            for epoch in range(epochs):\n",
    "                train_one_epoch(model, train_loader, criterion, optimizer, device)\n",
    "            \n",
    "            acc = evaluate(model, test_loader, device)\n",
    "            fold_results.append(acc)\n",
    "        \n",
    "        all_seed_results.append(np.mean(fold_results))\n",
    "    \n",
    "    mean_acc = np.mean(all_seed_results)\n",
    "    std_acc = np.std(all_seed_results)\n",
    "    return mean_acc, std_acc\n"
   ]
  },
  {
   "cell_type": "code",
   "execution_count": 8,
   "id": "5d630ee8",
   "metadata": {
    "execution": {
     "iopub.execute_input": "2025-10-23T13:16:15.255402Z",
     "iopub.status.busy": "2025-10-23T13:16:15.254887Z",
     "iopub.status.idle": "2025-10-23T14:07:43.304487Z",
     "shell.execute_reply": "2025-10-23T14:07:43.303605Z"
    },
    "papermill": {
     "duration": 3088.055596,
     "end_time": "2025-10-23T14:07:43.308003",
     "exception": false,
     "start_time": "2025-10-23T13:16:15.252407",
     "status": "completed"
    },
    "tags": []
   },
   "outputs": [
    {
     "name": "stdout",
     "output_type": "stream",
     "text": [
      "\n",
      "Processing REDDIT-MULTI-5K...\n"
     ]
    },
    {
     "name": "stderr",
     "output_type": "stream",
     "text": [
      "Downloading https://www.chrsmrrs.com/graphkerneldatasets/REDDIT-MULTI-5K.zip\n",
      "Processing...\n",
      "Done!\n"
     ]
    },
    {
     "name": "stdout",
     "output_type": "stream",
     "text": [
      "REDDIT-MULTI-5K: 0.4651 ± 0.0024\n",
      "\n",
      "Processing REDDIT-MULTI-12K...\n"
     ]
    },
    {
     "name": "stderr",
     "output_type": "stream",
     "text": [
      "Downloading https://www.chrsmrrs.com/graphkerneldatasets/REDDIT-MULTI-12K.zip\n",
      "Processing...\n",
      "Done!\n"
     ]
    },
    {
     "name": "stdout",
     "output_type": "stream",
     "text": [
      "REDDIT-MULTI-12K: 0.3993 ± 0.0022\n"
     ]
    }
   ],
   "source": [
    "device = 'cuda' if torch.cuda.is_available() else 'cpu'\n",
    "\n",
    "'''datasets_to_run = ['MUTAG', 'BZR', 'FRANKENSTEIN', 'NCI1', 'NCI109', 'PTC_MR', \n",
    "                   'ENZYMES', 'DD', 'PROTEINS', 'COLLAB', 'IMDB-BINARY', 'IMDB-MULTI', \n",
    "                   'TRIANGLES', 'CSL']'''\n",
    "datasets_to_run = ['REDDIT-MULTI-5K', 'REDDIT-MULTI-12K']\n",
    "\n",
    "results = {}\n",
    "for name in datasets_to_run:\n",
    "    print(f\"\\nProcessing {name}...\")\n",
    "    adj_list, labels = load_tudataset(name)\n",
    "    dataset = DoSDataset(adj_list, labels, num_bins=100, sigma=0.01)\n",
    "    num_classes = len(np.unique(labels))\n",
    "    \n",
    "    mean_acc, std_acc = cross_val_run_gpu(dataset, num_classes, device=device)\n",
    "    results[name] = (mean_acc, std_acc)\n",
    "    print(f\"{name}: {mean_acc:.4f} ± {std_acc:.4f}\")\n"
   ]
  }
 ],
 "metadata": {
  "kaggle": {
   "accelerator": "gpu",
   "dataSources": [],
   "dockerImageVersionId": 31153,
   "isGpuEnabled": true,
   "isInternetEnabled": true,
   "language": "python",
   "sourceType": "notebook"
  },
  "kernelspec": {
   "display_name": "Python 3",
   "language": "python",
   "name": "python3"
  },
  "language_info": {
   "codemirror_mode": {
    "name": "ipython",
    "version": 3
   },
   "file_extension": ".py",
   "mimetype": "text/x-python",
   "name": "python",
   "nbconvert_exporter": "python",
   "pygments_lexer": "ipython3",
   "version": "3.11.13"
  },
  "papermill": {
   "default_parameters": {},
   "duration": 3114.999809,
   "end_time": "2025-10-23T14:07:47.643029",
   "environment_variables": {},
   "exception": null,
   "input_path": "__notebook__.ipynb",
   "output_path": "__notebook__.ipynb",
   "parameters": {},
   "start_time": "2025-10-23T13:15:52.643220",
   "version": "2.6.0"
  }
 },
 "nbformat": 4,
 "nbformat_minor": 5
}
